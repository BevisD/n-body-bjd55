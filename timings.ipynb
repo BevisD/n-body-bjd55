{
 "cells": [
  {
   "cell_type": "code",
   "execution_count": 6,
   "metadata": {},
   "outputs": [],
   "source": [
    "import numpy as np\n",
    "import matplotlib.pyplot as plt\n",
    "\n",
    "from particle import Particle\n",
    "from algorithms import BarnesHut, FMM, PairWise\n",
    "from forces import Inverse\n",
    "from universe import Universe\n"
   ]
  },
  {
   "cell_type": "code",
   "execution_count": 3,
   "metadata": {},
   "outputs": [],
   "source": [
    "Ns = [10, 32, 100, 320, 1000, 3200, 10000]\n",
    "G = 1\n",
    "DT = 0.01\n",
    "\n",
    "force = Inverse(G)"
   ]
  },
  {
   "attachments": {},
   "cell_type": "markdown",
   "metadata": {},
   "source": [
    "# Algorithm Comparison"
   ]
  },
  {
   "attachments": {},
   "cell_type": "markdown",
   "metadata": {},
   "source": [
    "## Pair-Wise"
   ]
  },
  {
   "cell_type": "code",
   "execution_count": 3,
   "metadata": {},
   "outputs": [
    {
     "name": "stdout",
     "output_type": "stream",
     "text": [
      "68 µs ± 4.41 µs per loop (mean ± std. dev. of 7 runs, 10,000 loops each)\n",
      "682 µs ± 13 µs per loop (mean ± std. dev. of 7 runs, 1,000 loops each)\n",
      "6.92 ms ± 205 µs per loop (mean ± std. dev. of 7 runs, 100 loops each)\n",
      "67.7 ms ± 470 µs per loop (mean ± std. dev. of 7 runs, 10 loops each)\n",
      "696 ms ± 26.2 ms per loop (mean ± std. dev. of 7 runs, 1 loop each)\n",
      "7.24 s ± 135 ms per loop (mean ± std. dev. of 7 runs, 1 loop each)\n",
      "1min 12s ± 1.88 s per loop (mean ± std. dev. of 7 runs, 1 loop each)\n"
     ]
    }
   ],
   "source": [
    "PW_times_avg = []\n",
    "PW_times_std = []\n",
    "\n",
    "PW_algorithm = PairWise(force)\n",
    "\n",
    "for N in Ns:\n",
    "    particles = [Particle(charge=1.0) for _ in range(N)]\n",
    "    result = %timeit -o PW_algorithm.calculate_accelerations(particles)\n",
    "    PW_times_avg.append(result.average)\n",
    "    PW_times_std.append(result.stdev)"
   ]
  },
  {
   "attachments": {},
   "cell_type": "markdown",
   "metadata": {},
   "source": [
    "## Barnes-Hut"
   ]
  },
  {
   "cell_type": "code",
   "execution_count": 6,
   "metadata": {},
   "outputs": [
    {
     "name": "stdout",
     "output_type": "stream",
     "text": [
      "1.05 ms ± 43.7 µs per loop (mean ± std. dev. of 7 runs, 1,000 loops each)\n",
      "4.64 ms ± 397 µs per loop (mean ± std. dev. of 7 runs, 100 loops each)\n",
      "21.4 ms ± 816 µs per loop (mean ± std. dev. of 7 runs, 10 loops each)\n",
      "99.8 ms ± 8.19 ms per loop (mean ± std. dev. of 7 runs, 10 loops each)\n",
      "451 ms ± 47.2 ms per loop (mean ± std. dev. of 7 runs, 1 loop each)\n",
      "1.79 s ± 153 ms per loop (mean ± std. dev. of 7 runs, 1 loop each)\n",
      "6.65 s ± 453 ms per loop (mean ± std. dev. of 7 runs, 1 loop each)\n"
     ]
    }
   ],
   "source": [
    "THETA = 0.5\n",
    "\n",
    "BH_times_avg = []\n",
    "BH_times_std = []\n",
    "\n",
    "BH_algorithm = BarnesHut(force, theta=THETA)\n",
    "\n",
    "for N in Ns:\n",
    "    particles = [Particle(charge=1.0) for _ in range(N)]\n",
    "    result = %timeit -o BH_algorithm.calculate_accelerations(particles)\n",
    "    BH_times_avg.append(result.average)\n",
    "    BH_times_std.append(result.stdev)"
   ]
  },
  {
   "attachments": {},
   "cell_type": "markdown",
   "metadata": {},
   "source": [
    "## FMM"
   ]
  },
  {
   "cell_type": "code",
   "execution_count": 6,
   "metadata": {},
   "outputs": [
    {
     "name": "stdout",
     "output_type": "stream",
     "text": [
      "13.1 ms ± 1.13 ms per loop (mean ± std. dev. of 7 runs, 100 loops each)\n",
      "12.2 ms ± 771 µs per loop (mean ± std. dev. of 7 runs, 100 loops each)\n",
      "14.5 ms ± 2.1 ms per loop (mean ± std. dev. of 7 runs, 100 loops each)\n",
      "81.8 ms ± 2.84 ms per loop (mean ± std. dev. of 7 runs, 10 loops each)\n",
      "83.7 ms ± 988 µs per loop (mean ± std. dev. of 7 runs, 10 loops each)\n",
      "423 ms ± 29.8 ms per loop (mean ± std. dev. of 7 runs, 1 loop each)\n",
      "487 ms ± 30 ms per loop (mean ± std. dev. of 7 runs, 1 loop each)\n",
      "500 ms ± 41.1 ms per loop (mean ± std. dev. of 7 runs, 1 loop each)\n",
      "2.2 s ± 83 ms per loop (mean ± std. dev. of 7 runs, 1 loop each)\n",
      "2.22 s ± 128 ms per loop (mean ± std. dev. of 7 runs, 1 loop each)\n",
      "9.16 s ± 167 ms per loop (mean ± std. dev. of 7 runs, 1 loop each)\n",
      "9.08 s ± 628 ms per loop (mean ± std. dev. of 7 runs, 1 loop each)\n"
     ]
    }
   ],
   "source": [
    "PRECISION = 4\n",
    "\n",
    "Ns = [16, 26, 48, 88, 160, 260, 480, 880, 1600, 2600, 4800, 8800]\n",
    "FMM_times_avg = []\n",
    "FMM_times_std = []\n",
    "\n",
    "for N in Ns:\n",
    "    MAX_LEVEL = int(np.log(N) / np.log(4))\n",
    "    FMM_algorithm = FMM(MAX_LEVEL, PRECISION, G)\n",
    "    particles = [Particle(charge=1.0) for _ in range(N)]\n",
    "    result = %timeit -o FMM_algorithm.calculate_accelerations(particles)\n",
    "    FMM_times_avg.append(result.average)\n",
    "    FMM_times_std.append(result.stdev)"
   ]
  },
  {
   "attachments": {},
   "cell_type": "markdown",
   "metadata": {},
   "source": [
    "# Parameter Dependence"
   ]
  },
  {
   "cell_type": "code",
   "execution_count": 14,
   "metadata": {},
   "outputs": [],
   "source": [
    "def monte_carlo(alg, N):\n",
    "    particles = [Particle(charge=0.1) for _ in range(N)]\n",
    "    alg.calculate_accelerations(particles)"
   ]
  },
  {
   "attachments": {},
   "cell_type": "markdown",
   "metadata": {},
   "source": [
    "## Theta Dependence"
   ]
  },
  {
   "cell_type": "code",
   "execution_count": null,
   "metadata": {},
   "outputs": [],
   "source": [
    "THETAS = np.linspace(0.0, 1.0, 11)\n",
    "N = 1000\n",
    "\n",
    "BH_algorithm = BarnesHut(force, theta=0.0)"
   ]
  },
  {
   "cell_type": "code",
   "execution_count": 12,
   "metadata": {},
   "outputs": [
    {
     "name": "stdout",
     "output_type": "stream",
     "text": [
      "4.85 s ± 143 ms per loop (mean ± std. dev. of 7 runs, 1 loop each)\n",
      "2.84 s ± 211 ms per loop (mean ± std. dev. of 7 runs, 1 loop each)\n",
      "1.38 s ± 59.8 ms per loop (mean ± std. dev. of 7 runs, 1 loop each)\n",
      "819 ms ± 71.2 ms per loop (mean ± std. dev. of 7 runs, 1 loop each)\n",
      "622 ms ± 93 ms per loop (mean ± std. dev. of 7 runs, 1 loop each)\n",
      "380 ms ± 24.2 ms per loop (mean ± std. dev. of 7 runs, 1 loop each)\n",
      "312 ms ± 22.3 ms per loop (mean ± std. dev. of 7 runs, 1 loop each)\n",
      "242 ms ± 4.57 ms per loop (mean ± std. dev. of 7 runs, 1 loop each)\n",
      "204 ms ± 4.1 ms per loop (mean ± std. dev. of 7 runs, 1 loop each)\n",
      "192 ms ± 8.35 ms per loop (mean ± std. dev. of 7 runs, 10 loops each)\n",
      "169 ms ± 927 µs per loop (mean ± std. dev. of 7 runs, 10 loops each)\n"
     ]
    }
   ],
   "source": [
    "BH_theta_times_avg = []\n",
    "BH_theta_times_std = []\n",
    "\n",
    "for theta in THETAS:\n",
    "    BH_algorithm.theta = theta\n",
    "    result = %timeit -o monte_carlo(BH_algorithm, N)\n",
    "    BH_theta_times_avg.append(result.average)\n",
    "    BH_theta_times_std.append(result.stdev)"
   ]
  },
  {
   "attachments": {},
   "cell_type": "markdown",
   "metadata": {},
   "source": [
    "## Precision Dependence"
   ]
  },
  {
   "cell_type": "code",
   "execution_count": 17,
   "metadata": {},
   "outputs": [],
   "source": [
    "Ps = np.arange(1, 40, 2)\n",
    "N = 100\n",
    "MAX_DEPTH = 3\n",
    "G = 1\n",
    "PRECISIONS = np.arange(1, 31, 2)"
   ]
  },
  {
   "cell_type": "code",
   "execution_count": 18,
   "metadata": {},
   "outputs": [
    {
     "name": "stdout",
     "output_type": "stream",
     "text": [
      "87.4 ms ± 5.49 ms per loop (mean ± std. dev. of 7 runs, 10 loops each)\n",
      "95 ms ± 7.52 ms per loop (mean ± std. dev. of 7 runs, 10 loops each)\n",
      "90.4 ms ± 9.61 ms per loop (mean ± std. dev. of 7 runs, 10 loops each)\n",
      "83.3 ms ± 1.91 ms per loop (mean ± std. dev. of 7 runs, 10 loops each)\n",
      "84.5 ms ± 1.07 ms per loop (mean ± std. dev. of 7 runs, 10 loops each)\n",
      "86.4 ms ± 931 µs per loop (mean ± std. dev. of 7 runs, 10 loops each)\n",
      "94.8 ms ± 609 µs per loop (mean ± std. dev. of 7 runs, 10 loops each)\n",
      "99.5 ms ± 2.29 ms per loop (mean ± std. dev. of 7 runs, 10 loops each)\n",
      "96.9 ms ± 521 µs per loop (mean ± std. dev. of 7 runs, 10 loops each)\n",
      "101 ms ± 1.23 ms per loop (mean ± std. dev. of 7 runs, 10 loops each)\n",
      "107 ms ± 789 µs per loop (mean ± std. dev. of 7 runs, 10 loops each)\n",
      "117 ms ± 1.18 ms per loop (mean ± std. dev. of 7 runs, 10 loops each)\n",
      "126 ms ± 1.19 ms per loop (mean ± std. dev. of 7 runs, 10 loops each)\n",
      "145 ms ± 7.75 ms per loop (mean ± std. dev. of 7 runs, 10 loops each)\n",
      "159 ms ± 5.57 ms per loop (mean ± std. dev. of 7 runs, 10 loops each)\n",
      "194 ms ± 7.91 ms per loop (mean ± std. dev. of 7 runs, 10 loops each)\n",
      "209 ms ± 8.07 ms per loop (mean ± std. dev. of 7 runs, 1 loop each)\n",
      "236 ms ± 4.74 ms per loop (mean ± std. dev. of 7 runs, 1 loop each)\n",
      "305 ms ± 26.6 ms per loop (mean ± std. dev. of 7 runs, 1 loop each)\n",
      "338 ms ± 33.8 ms per loop (mean ± std. dev. of 7 runs, 1 loop each)\n"
     ]
    }
   ],
   "source": [
    "FMM_P_TIMES_AVG = []\n",
    "FMM_P_TIMES_STD = []\n",
    "\n",
    "for p in Ps:\n",
    "    FMM_algorithm = FMM(MAX_DEPTH, p, G)\n",
    "    result = %timeit -o monte_carlo(FMM_algorithm, N)\n",
    "    FMM_P_TIMES_AVG.append(result.average)\n",
    "    FMM_P_TIMES_STD.append(result.stdev)"
   ]
  }
 ],
 "metadata": {
  "kernelspec": {
   "display_name": "Python 3",
   "language": "python",
   "name": "python3"
  },
  "language_info": {
   "codemirror_mode": {
    "name": "ipython",
    "version": 3
   },
   "file_extension": ".py",
   "mimetype": "text/x-python",
   "name": "python",
   "nbconvert_exporter": "python",
   "pygments_lexer": "ipython3",
   "version": "3.9.2"
  },
  "orig_nbformat": 4
 },
 "nbformat": 4,
 "nbformat_minor": 2
}
