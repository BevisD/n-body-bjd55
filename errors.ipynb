{
 "cells": [
  {
   "cell_type": "code",
   "execution_count": 5,
   "metadata": {},
   "outputs": [],
   "source": [
    "from particle import Particle\n",
    "from algorithms import BarnesHut, PairWise, FMM\n",
    "from forces import Inverse\n",
    "import numpy as np"
   ]
  },
  {
   "attachments": {},
   "cell_type": "markdown",
   "metadata": {},
   "source": [
    "## Barnes-Hut Error"
   ]
  },
  {
   "cell_type": "code",
   "execution_count": null,
   "metadata": {},
   "outputs": [],
   "source": [
    "Ns = [10, 100, 1000]\n",
    "ITERS = 40\n",
    "THETAS = np.linspace(0, 1, 11)\n",
    "G = 1\n",
    "\n",
    "force = Inverse(G)\n",
    "BH_algorithm = BarnesHut(force)\n",
    "PW_algorithm = PairWise(force)\n",
    "\n",
    "errors = {N: [] for N in Ns}\n",
    "errors_std = {N: [] for N in Ns}\n",
    "\n",
    "for N in Ns:\n",
    "    print(N)\n",
    "    for theta in THETAS:\n",
    "        BH_algorithm.theta = theta\n",
    "\n",
    "        temp_errors = []\n",
    "        for _ in range(ITERS):\n",
    "            particles = [Particle(charge=1/np.sqrt(N)) for _ in range(N)]\n",
    "\n",
    "            BH_accelerations = BH_algorithm.calculate_accelerations(particles)\n",
    "            PW_accelerations = PW_algorithm.calculate_accelerations(particles)\n",
    "\n",
    "            diff = BH_accelerations - PW_accelerations\n",
    "            error = np.mean(np.abs(diff))\n",
    "            temp_errors.append(error)\n",
    "\n",
    "        errors[N].append(np.mean(temp_errors))\n",
    "        errors_std[N].append(np.std(temp_errors))       "
   ]
  },
  {
   "attachments": {},
   "cell_type": "markdown",
   "metadata": {},
   "source": [
    "## FMM Error"
   ]
  },
  {
   "cell_type": "code",
   "execution_count": 6,
   "metadata": {},
   "outputs": [],
   "source": [
    "N = 100\n",
    "MAX_DEPTH = 3\n",
    "G = 1\n",
    "PRECISIONS = np.arange(1, 31, 2)\n",
    "ITERS = 10\n",
    "\n",
    "force = Inverse(G)\n",
    "\n",
    "PW_algorithm = PairWise(force)\n",
    "particles = [[Particle(charge=1/np.sqrt(N)) for _ in range(N)] \n",
    "             for _ in range(ITERS)]"
   ]
  },
  {
   "cell_type": "code",
   "execution_count": 7,
   "metadata": {},
   "outputs": [
    {
     "name": "stdout",
     "output_type": "stream",
     "text": [
      "1\n",
      "3\n",
      "5\n",
      "7\n",
      "9\n",
      "11\n",
      "13\n",
      "15\n",
      "17\n",
      "19\n",
      "21\n",
      "23\n",
      "25\n",
      "27\n",
      "29\n"
     ]
    }
   ],
   "source": [
    "errors = []\n",
    "errors_std = []\n",
    "\n",
    "for precision in PRECISIONS:\n",
    "    print(precision)\n",
    "    temp_errors = []\n",
    "    for i in range(ITERS):\n",
    "        FMM_algorithm = FMM(MAX_DEPTH, precision, G)\n",
    "\n",
    "        FMM_accelerations = FMM_algorithm.calculate_accelerations(particles[i])\n",
    "        PW_accelerations = PW_algorithm.calculate_accelerations(particles[i])\n",
    "\n",
    "        diff = FMM_accelerations - PW_accelerations\n",
    "        error = np.mean(np.abs(diff))\n",
    "        temp_errors.append(error)\n",
    "    errors.append(np.mean(temp_errors))\n",
    "    errors_std.append(np.std(temp_errors))"
   ]
  }
 ],
 "metadata": {
  "kernelspec": {
   "display_name": "Python 3",
   "language": "python",
   "name": "python3"
  },
  "language_info": {
   "codemirror_mode": {
    "name": "ipython",
    "version": 3
   },
   "file_extension": ".py",
   "mimetype": "text/x-python",
   "name": "python",
   "nbconvert_exporter": "python",
   "pygments_lexer": "ipython3",
   "version": "3.9.2"
  },
  "orig_nbformat": 4
 },
 "nbformat": 4,
 "nbformat_minor": 2
}
