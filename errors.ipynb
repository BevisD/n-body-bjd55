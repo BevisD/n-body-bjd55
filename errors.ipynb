{
 "cells": [
  {
   "cell_type": "code",
   "execution_count": 1,
   "metadata": {},
   "outputs": [],
   "source": [
    "from particle import Particle\n",
    "from algorithms import BarnesHut, PairWise, FMM\n",
    "from forces import Inverse\n",
    "import numpy as np\n",
    "from universe import Universe\n",
    "import matplotlib.pyplot as plt\n",
    "np.random.seed(0)"
   ]
  },
  {
   "attachments": {},
   "cell_type": "markdown",
   "metadata": {},
   "source": [
    "## Errors in Acceleration"
   ]
  },
  {
   "attachments": {},
   "cell_type": "markdown",
   "metadata": {},
   "source": [
    "### Barnes-Hut Acceleration Error"
   ]
  },
  {
   "cell_type": "code",
   "execution_count": null,
   "metadata": {},
   "outputs": [],
   "source": [
    "Ns = [10, 100, 1000]\n",
    "ITERS = 40\n",
    "THETAS = np.linspace(0, 1, 11)\n",
    "G = 1\n",
    "\n",
    "force = Inverse(G)\n",
    "BH_algorithm = BarnesHut(force)\n",
    "PW_algorithm = PairWise(force)\n",
    "\n",
    "errors = {N: [] for N in Ns}\n",
    "errors_std = {N: [] for N in Ns}\n",
    "\n",
    "for N in Ns:\n",
    "    print(N)\n",
    "    for theta in THETAS:\n",
    "        BH_algorithm.theta = theta\n",
    "\n",
    "        temp_errors = []\n",
    "        for _ in range(ITERS):\n",
    "            particles = [Particle(charge=1/np.sqrt(N)) for _ in range(N)]\n",
    "\n",
    "            BH_accelerations = BH_algorithm.calculate_accelerations(particles)\n",
    "            PW_accelerations = PW_algorithm.calculate_accelerations(particles)\n",
    "\n",
    "            diff = BH_accelerations - PW_accelerations\n",
    "            error = np.mean(np.abs(diff))\n",
    "            temp_errors.append(error)\n",
    "\n",
    "        errors[N].append(np.mean(temp_errors))\n",
    "        errors_std[N].append(np.std(temp_errors))       "
   ]
  },
  {
   "attachments": {},
   "cell_type": "markdown",
   "metadata": {},
   "source": [
    "### FMM Acceleration Error"
   ]
  },
  {
   "cell_type": "code",
   "execution_count": null,
   "metadata": {},
   "outputs": [],
   "source": [
    "N = 100\n",
    "MAX_DEPTH = 3\n",
    "G = 1\n",
    "PRECISIONS = np.arange(1, 31, 2)\n",
    "ITERS = 10\n",
    "\n",
    "force = Inverse(G)\n",
    "\n",
    "PW_algorithm = PairWise(force)\n",
    "particles = [[Particle(charge=1/np.sqrt(N)) for _ in range(N)] \n",
    "             for _ in range(ITERS)]"
   ]
  },
  {
   "cell_type": "code",
   "execution_count": null,
   "metadata": {},
   "outputs": [],
   "source": [
    "errors = []\n",
    "errors_std = []\n",
    "\n",
    "for precision in PRECISIONS:\n",
    "    print(precision)\n",
    "    temp_errors = []\n",
    "    for i in range(ITERS):\n",
    "        FMM_algorithm = FMM(MAX_DEPTH, precision, G)\n",
    "\n",
    "        FMM_accelerations = FMM_algorithm.calculate_accelerations(particles[i])\n",
    "        PW_accelerations = PW_algorithm.calculate_accelerations(particles[i])\n",
    "\n",
    "        diff = FMM_accelerations - PW_accelerations\n",
    "        error = np.mean(np.abs(diff))\n",
    "        temp_errors.append(error)\n",
    "    errors.append(np.mean(temp_errors))\n",
    "    errors_std.append(np.std(temp_errors))"
   ]
  },
  {
   "attachments": {},
   "cell_type": "markdown",
   "metadata": {},
   "source": [
    "## Errors in Momentum"
   ]
  },
  {
   "cell_type": "code",
   "execution_count": 2,
   "metadata": {},
   "outputs": [],
   "source": [
    "N = 100\n",
    "G = 1\n",
    "DT = 0.01\n",
    "MAX_DEPTH = int(np.log(N) / np.log(4))\n",
    "PRECISION = 4\n",
    "THETA=0.5\n",
    "TIME_STEPS = 100\n",
    "\n",
    "force = Inverse(G)\n",
    "init_particles = [Particle(charge=1/np.sqrt(N)) for _ in range(N)]"
   ]
  },
  {
   "attachments": {},
   "cell_type": "markdown",
   "metadata": {},
   "source": [
    "### Pair-Wise Momentum Error"
   ]
  },
  {
   "cell_type": "code",
   "execution_count": null,
   "metadata": {},
   "outputs": [],
   "source": [
    "particles = [particle.copy() for particle in init_particles]\n",
    "PW_algorithm = PairWise(force)\n",
    "PW_universe = Universe(particles, PW_algorithm, DT)\n",
    "\n",
    "PW_momentums = []\n",
    "times = []\n",
    "for _ in range(TIME_STEPS):\n",
    "    PW_momentums.append(abs(PW_universe.calculate_momentum()))\n",
    "    times.append(PW_universe.T)\n",
    "\n",
    "    PW_universe.update()"
   ]
  },
  {
   "attachments": {},
   "cell_type": "markdown",
   "metadata": {},
   "source": [
    "### Barnes-Hut Momentum Error"
   ]
  },
  {
   "cell_type": "code",
   "execution_count": null,
   "metadata": {},
   "outputs": [],
   "source": [
    "particles = [particle.copy() for particle in init_particles]\n",
    "BH_algorithm = BarnesHut(force, theta=THETA)\n",
    "BH_universe = Universe(particles, BH_algorithm, DT)\n",
    "\n",
    "BH_momentums = []\n",
    "for _ in range(TIME_STEPS):\n",
    "    BH_momentums.append(abs(BH_universe.calculate_momentum()))\n",
    "\n",
    "    BH_universe.update()"
   ]
  },
  {
   "attachments": {},
   "cell_type": "markdown",
   "metadata": {},
   "source": [
    "### FMM Momentum Error"
   ]
  },
  {
   "cell_type": "code",
   "execution_count": null,
   "metadata": {},
   "outputs": [],
   "source": [
    "particles = [particle.copy() for particle in init_particles]\n",
    "FMM_algorithm = FMM(MAX_DEPTH, PRECISION, G)\n",
    "FMM_universe = Universe(particles, FMM_algorithm, DT)\n",
    "\n",
    "FMM_momentums = []\n",
    "for _ in range(TIME_STEPS):\n",
    "    FMM_momentums.append(abs(FMM_universe.calculate_momentum()))\n",
    "\n",
    "    FMM_universe.update()"
   ]
  },
  {
   "attachments": {},
   "cell_type": "markdown",
   "metadata": {},
   "source": [
    "## Errors in Energy"
   ]
  },
  {
   "cell_type": "code",
   "execution_count": 3,
   "metadata": {},
   "outputs": [],
   "source": [
    "np.random.seed(0)\n",
    "N = 100\n",
    "G = -1\n",
    "DT = 0.005\n",
    "MAX_DEPTH = int(np.log(N) / np.log(4))\n",
    "PRECISION = 4\n",
    "THETA=0.5\n",
    "TIME_STEPS = 1000\n",
    "\n",
    "force = Inverse(G)\n",
    "init_particles = [Particle(charge=1/np.sqrt(N)) for _ in range(N)]"
   ]
  },
  {
   "attachments": {},
   "cell_type": "markdown",
   "metadata": {},
   "source": [
    "### Pair-Wise Energy Error"
   ]
  },
  {
   "cell_type": "code",
   "execution_count": 4,
   "metadata": {},
   "outputs": [],
   "source": [
    "particles = [particle.copy() for particle in init_particles]\n",
    "PW_algorithm = PairWise(force)\n",
    "PW_universe = Universe(particles, PW_algorithm, DT)\n",
    "\n",
    "PW_kinetic = []\n",
    "PW_potential = []\n",
    "times = []\n",
    "for _ in range(TIME_STEPS):\n",
    "    PW_kinetic.append(PW_universe.calculate_kinetic_energy())\n",
    "    PW_potential.append(PW_universe.calculate_potential())\n",
    "    times.append(PW_universe.T)\n",
    "\n",
    "    PW_universe.update()"
   ]
  },
  {
   "attachments": {},
   "cell_type": "markdown",
   "metadata": {},
   "source": [
    "### Barnes-Hut Energy Error"
   ]
  },
  {
   "cell_type": "code",
   "execution_count": 6,
   "metadata": {},
   "outputs": [],
   "source": [
    "particles = [particle.copy() for particle in init_particles]\n",
    "BH_algorithm = BarnesHut(force, theta=THETA)\n",
    "BH_universe = Universe(particles, BH_algorithm, DT)\n",
    "\n",
    "BH_kinetic = []\n",
    "BH_potential = []\n",
    "times = []\n",
    "for _ in range(TIME_STEPS):\n",
    "    BH_kinetic.append(BH_universe.calculate_kinetic_energy())\n",
    "    BH_potential.append(BH_universe.calculate_potential())\n",
    "    times.append(BH_universe.T)\n",
    "\n",
    "    BH_universe.update()"
   ]
  },
  {
   "attachments": {},
   "cell_type": "markdown",
   "metadata": {},
   "source": [
    "### FMM Energy Error"
   ]
  },
  {
   "cell_type": "code",
   "execution_count": 8,
   "metadata": {},
   "outputs": [],
   "source": [
    "particles = [particle.copy() for particle in init_particles]\n",
    "FMM_algorithm = FMM(MAX_DEPTH, PRECISION, G)\n",
    "FMM_universe = Universe(particles, FMM_algorithm, DT)\n",
    "\n",
    "FMM_kinetic = []\n",
    "FMM_potential = []\n",
    "times = []\n",
    "for _ in range(TIME_STEPS):\n",
    "    FMM_kinetic.append(FMM_universe.calculate_kinetic_energy())\n",
    "    FMM_potential.append(FMM_universe.calculate_potential())\n",
    "    times.append(FMM_universe.T)\n",
    "\n",
    "    FMM_universe.update()"
   ]
  }
 ],
 "metadata": {
  "kernelspec": {
   "display_name": "Python 3",
   "language": "python",
   "name": "python3"
  },
  "language_info": {
   "codemirror_mode": {
    "name": "ipython",
    "version": 3
   },
   "file_extension": ".py",
   "mimetype": "text/x-python",
   "name": "python",
   "nbconvert_exporter": "python",
   "pygments_lexer": "ipython3",
   "version": "3.9.2"
  },
  "orig_nbformat": 4
 },
 "nbformat": 4,
 "nbformat_minor": 2
}
